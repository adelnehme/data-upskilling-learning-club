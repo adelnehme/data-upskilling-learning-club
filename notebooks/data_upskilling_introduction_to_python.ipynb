{
  "nbformat": 4,
  "nbformat_minor": 0,
  "metadata": {
    "colab": {
      "name": "Data UpSkilling Learning Club: Introduction to Python.ipynb",
      "provenance": []
    },
    "kernelspec": {
      "name": "python3",
      "display_name": "Python 3"
    }
  },
  "cells": [
    {
      "cell_type": "markdown",
      "metadata": {
        "id": "6Ijg5wUCTQYG",
        "colab_type": "text"
      },
      "source": [
        "<p align=\"center\">\n",
        "<img src=\"https://github.com/adelnehme/data-upskilling-learning-club/blob/master/assets/datacamp_amazon.png?raw=true\" alt = \"DataCamp Amazon icon\" width=\"65%\">\n",
        "</p>\n",
        "\n",
        "\n",
        "## **Data UpSkilling Learning Club: Introduction to Python**\n",
        "\n",
        "\n",
        "### **Key session takeaways**\n",
        "\n",
        "* Import data into Python using `pandas` — Python’s most popular data analysis package.\n",
        "* Filter, add new columns, and analyse datasets using pandas.\n",
        "* Present data visualisations using `matplotlib` and `seaborn` — Python's most popular data visualization packages.\n",
        "\n",
        "### **The Dataset**\n",
        "\n",
        "The dataset to be used in this webinar is a CSV file named `airbnb.csv`, which contains data on airbnb listings in the state of New York. It contains the following columns:\n",
        "\n",
        "- `listing_id`: The unique identifier for a listing\n",
        "- `description`: The description used on the listing\n",
        "- `host_id`: Unique identifier for a host\n",
        "- `neighbourhood_full`: Name of boroughs and neighbourhoods\n",
        "- `coordinates`: Coordinates of listing _(latitude, longitude)_\n",
        "- `listing_added`: Date of added listing\n",
        "- `room_type`: Type of room \n",
        "- `rating`: Rating from 0 to 5.\n",
        "- `price`: Price per night for listing\n",
        "- `number_of_reviews`: Amount of reviews received \n",
        "- `reviews_per_month`: Number of reviews per month\n",
        "- `availability_365`: Number of days available per year\n",
        "- `number_of_stays`: Total number of stays thus far\n",
        "\n",
        "### **Questions to answer**\n",
        "\n",
        "- **Question 1:** What is the distribution of price per room type?\n",
        "- **Question 2:** What are the number of listings per borough?\n",
        "- **Question 3:** What are the number of listings per year?\n",
        "- **Question 4:** What are the number of listings per year in each borough?\n"
      ]
    },
    {
      "cell_type": "markdown",
      "metadata": {
        "id": "BMYfcKeDY85K",
        "colab_type": "text"
      },
      "source": [
        "## **Getting started**"
      ]
    },
    {
      "cell_type": "code",
      "metadata": {
        "id": "EMQfyC7GUNhT",
        "colab_type": "code",
        "colab": {}
      },
      "source": [
        "# Import libraries\n",
        "import pandas as pd\n",
        "import matplotlib.pyplot as plt\n",
        "import seaborn as sns"
      ],
      "execution_count": null,
      "outputs": []
    },
    {
      "cell_type": "markdown",
      "metadata": {
        "id": "AGaYTBLYQUEe",
        "colab_type": "text"
      },
      "source": [
        "<font color=00AAFF>*To import a CSV file into* `pandas` *, we use* </font> `data = pd.read_csv(file_path)` <font color=00AAFF> *check out this [documentation](https://pandas.pydata.org/pandas-docs/stable/user_guide/io.html) for importing other data types*<font color=00AAFF>\n"
      ]
    },
    {
      "cell_type": "code",
      "metadata": {
        "id": "l8t_EwRNZPLB",
        "colab_type": "code",
        "colab": {}
      },
      "source": [
        "# Read in the dataset\n",
        "airbnb = pd.read_csv('https://raw.githubusercontent.com/adelnehme/data-upskilling-learning-club/master/data/airbnb.csv', index_col = 0)"
      ],
      "execution_count": null,
      "outputs": []
    },
    {
      "cell_type": "markdown",
      "metadata": {
        "id": "rGBXPrA0SEJZ",
        "colab_type": "text"
      },
      "source": [
        "<font color=00AAFF>*Some common methods needed to get a better understanding of your DataFrames:*<font color=00AAFF>\n",
        "\n",
        "- `data.head()` <font color=00AAFF>*prints the first 5 rows*</font>\n",
        "- `data.describe()` <font color=00AAFF>*prints the distribution of numeric columns*</font>\n",
        "- `data.info()` <font color=00AAFF>*prints the missingness and data types of columns*</font>"
      ]
    },
    {
      "cell_type": "code",
      "metadata": {
        "id": "QdUb07i370zA",
        "colab_type": "code",
        "colab": {}
      },
      "source": [
        "# Inspect header of dataset\n"
      ],
      "execution_count": null,
      "outputs": []
    },
    {
      "cell_type": "code",
      "metadata": {
        "id": "OwgWHyKF8b7F",
        "colab_type": "code",
        "colab": {}
      },
      "source": [
        "# Check description of dataset\n"
      ],
      "execution_count": null,
      "outputs": []
    },
    {
      "cell_type": "code",
      "metadata": {
        "id": "1asOzFL-7oOi",
        "colab_type": "code",
        "colab": {}
      },
      "source": [
        "# Check information of dataset\n"
      ],
      "execution_count": null,
      "outputs": []
    },
    {
      "cell_type": "markdown",
      "metadata": {
        "id": "fC7RVpt-UcRD",
        "colab_type": "text"
      },
      "source": [
        "## **Data Cleaning**"
      ]
    },
    {
      "cell_type": "markdown",
      "metadata": {
        "id": "rG5PDhllUXL7",
        "colab_type": "text"
      },
      "source": [
        "### **Data cleaning to-do list!**\n",
        "\n",
        "_Data Type Problems_\n",
        "\n",
        "- _**Task 1**: Remove_ `$` _from_ `price` _and convert it to_ `float`\n",
        "- _**Task 2**: Convert_ `listing_added` _to_ `datetime`\n",
        "\n",
        "<br>\n",
        "\n",
        "_Text/categorical data problems:_\n",
        "\n",
        "- _**Task 3**: Extract borough from_ `neighbourhood_full`\n",
        "\n",
        "<br>\n",
        "\n",
        "_Dealing with missing data:_\n",
        "\n",
        "- _**Task 4**: Deal with missing data in_ `host_id` _and_ `description` _columns_\n",
        "\n",
        "<br>\n"
      ]
    },
    {
      "cell_type": "markdown",
      "metadata": {
        "id": "_WbgrwVHVLoU",
        "colab_type": "text"
      },
      "source": [
        "##### **Task 1:** Remove `$` from `price` and convert it to `float`\n"
      ]
    },
    {
      "cell_type": "markdown",
      "metadata": {
        "id": "7ugtMIioXim8",
        "colab_type": "text"
      },
      "source": [
        "<font color=\"00AAFF\"> _To remove a character from a string column, we can use:_ </font>\n",
        "\n",
        "```\n",
        "data['column_name'] = data['column_name'].str.strip(character)\n",
        "```\n",
        "\n",
        "<font color=\"00AAFF\"> _To convert a numeric column to a float, we can use:_ </font>\n",
        "\n",
        "```\n",
        "data['column_name'] = data['column_name'].astype('float')\n",
        "```"
      ]
    },
    {
      "cell_type": "code",
      "metadata": {
        "id": "yMm6udxH9O4C",
        "colab_type": "code",
        "colab": {}
      },
      "source": [
        "# Strip $ from price column\n",
        "\n",
        "# Convert price column to float\n",
        "\n",
        "# Print header again\n"
      ],
      "execution_count": null,
      "outputs": []
    },
    {
      "cell_type": "markdown",
      "metadata": {
        "id": "_yDCiMLSYsBH",
        "colab_type": "text"
      },
      "source": [
        "##### **Task 2:** Convert `listing_added` to `datetime`\n",
        "\n",
        "<font color=\"00AAFF\"> _To convert a date column to_ </font> `datetime`<font color=\"00AAFF\">_, we can use:_\n",
        "\n",
        "\n",
        "```\n",
        "data['column_name'] = pd.to_datetime(data['column_name'])\n",
        "```"
      ]
    },
    {
      "cell_type": "code",
      "metadata": {
        "id": "g_sXwhjNYreC",
        "colab_type": "code",
        "colab": {}
      },
      "source": [
        "# Convert listing_added to datetime\n",
        "\n",
        "# Print info again\n"
      ],
      "execution_count": null,
      "outputs": []
    },
    {
      "cell_type": "markdown",
      "metadata": {
        "id": "9GkHzvjoZkKn",
        "colab_type": "text"
      },
      "source": [
        "##### **Task 3:** Extract borough from `neighbourhood_full` column\n",
        "\n",
        "<font color=\"00AAFF\"> _To split a column based on a character (e.g._</font> `','` <font color=\"00AAFF\">_) into multiple columns, we can use:_</font>\n",
        "\n",
        "\n",
        "```\n",
        "split_data = data['column_name'].str.split(',', expand = True)\n",
        "```\n"
      ]
    },
    {
      "cell_type": "code",
      "metadata": {
        "id": "HLChdRXM9rKe",
        "colab_type": "code",
        "colab": {}
      },
      "source": [
        "# Create new DataFrame with split column\n",
        "\n"
      ],
      "execution_count": null,
      "outputs": []
    },
    {
      "cell_type": "code",
      "metadata": {
        "id": "NO79JROB-CF-",
        "colab_type": "code",
        "colab": {}
      },
      "source": [
        "# Create borough and neighbourhood columns\n",
        "\n",
        "\n",
        "# Print header of columns\n"
      ],
      "execution_count": null,
      "outputs": []
    },
    {
      "cell_type": "code",
      "metadata": {
        "id": "7AmAW7HL-QeT",
        "colab_type": "code",
        "colab": {}
      },
      "source": [
        "# Drop original neighbourhood_full column\n"
      ],
      "execution_count": null,
      "outputs": []
    },
    {
      "cell_type": "markdown",
      "metadata": {
        "id": "I83nD4hkalO6",
        "colab_type": "text"
      },
      "source": [
        "##### **Task 4:** Deal with missing values in `host_id` and `description` columns\n",
        "\n",
        "\n",
        "<font color=\"00AAFF\"> _To count and drop missing values in a DataFrame, you can use the following:_</font>\n",
        "\n",
        "- `data.isna().sum()` <font color=\"00AAFF\">_to count missing values_</font>\n",
        "- `data.dropna()` <font color=\"00AAFF\">_drops missing values_</font>"
      ]
    },
    {
      "cell_type": "code",
      "metadata": {
        "id": "ivcJHiXV-fSx",
        "colab_type": "code",
        "colab": {}
      },
      "source": [
        "# Find missing values\n"
      ],
      "execution_count": null,
      "outputs": []
    },
    {
      "cell_type": "code",
      "metadata": {
        "id": "-MhQ9CKk_gbE",
        "colab_type": "code",
        "colab": {}
      },
      "source": [
        "# Drop missing values\n",
        "\n",
        "\n",
        "# Count missing values again\n"
      ],
      "execution_count": null,
      "outputs": []
    },
    {
      "cell_type": "markdown",
      "metadata": {
        "id": "723h_aFi_06N",
        "colab_type": "text"
      },
      "source": [
        "\n",
        "\n",
        "---\n",
        "\n",
        "<center><h1> Q&A</h1> </center>\n",
        "\n",
        "---\n",
        "\n",
        "\n",
        "\n"
      ]
    },
    {
      "cell_type": "markdown",
      "metadata": {
        "id": "Af25ZWEsccse",
        "colab_type": "text"
      },
      "source": [
        "## **Data Analysis and Visualization**"
      ]
    },
    {
      "cell_type": "markdown",
      "metadata": {
        "id": "ucpwJpmacfem",
        "colab_type": "text"
      },
      "source": [
        "##### **Question 1:** What is the distribution of price per room type?\n",
        "\n",
        "\n",
        "<p align=\"center\">\n",
        "<img src=\"https://github.com/adelnehme/data-upskilling-learning-club/blob/master/assets/boxplot.png?raw=true\" alt = \"boxplot\" width=\"65%\">\n",
        "</p>\n",
        "\n",
        "\n",
        "<font color=\"00AAFF\"> _To create a boxplot using_</font> `seaborn`<font color=\"00AAFF\"> _we can use:_</font>\n",
        "\n",
        "- `sns.boxplot(x = , y = , data = )`\n",
        "  - `x`: <font color=\"00AAFF\"> _column name on x-axis_</font> \n",
        "  - `y`: <font color=\"00AAFF\"> _column name on y-axis_</font> \n",
        "  - `data`: <font color=\"00AAFF\"> _data being used_</font> \n",
        "- `plt.title()`: <font color=\"00AAFF\"> _sets plot title_</font> \n",
        "- `plt.xlabel()`: <font color=\"00AAFF\"> _sets x-axis label_</font> \n",
        "- `plt.ylabel()`: <font color=\"00AAFF\"> _sets y-axis label_</font> \n",
        "- `plt.show()`: <font color=\"00AAFF\"> _shows plot_</font> "
      ]
    },
    {
      "cell_type": "code",
      "metadata": {
        "id": "aJkzeme6F-_Z",
        "colab_type": "code",
        "colab": {}
      },
      "source": [
        "# Visualize price by room type\n",
        "plt.figure(figsize = (8,6))\n",
        "\n",
        "# Create plot\n",
        "\n",
        "# Set titles and labels of plot\n",
        "\n",
        "# Set y-axis limit\n",
        "\n",
        "# Show plot\n"
      ],
      "execution_count": null,
      "outputs": []
    },
    {
      "cell_type": "markdown",
      "metadata": {
        "id": "UygF0fk_c6ju",
        "colab_type": "text"
      },
      "source": [
        "##### **Question 2:** What are the number of listings per borough?"
      ]
    },
    {
      "cell_type": "markdown",
      "metadata": {
        "id": "TdmAosgRr_uo",
        "colab_type": "text"
      },
      "source": [
        "<font color=\"00AAFF\"> _To easily show the count of observations in each category using_</font> `seaborn`<font color=\"00AAFF\"> _we can use:_</font>\n",
        "\n",
        "- `sns.countplot(x = , data = )`\n",
        "  - `x`: <font color=\"00AAFF\"> _categorical column name on x-axis_</font> \n",
        "  - `data`: <font color=\"00AAFF\"> _data being used_</font>\n",
        "- `plt.title()`: <font color=\"00AAFF\"> _sets plot title_</font> \n",
        "- `plt.xlabel()`: <font color=\"00AAFF\"> _sets x-axis label_</font> \n",
        "- `plt.ylabel()`: <font color=\"00AAFF\"> _sets y-axis label_</font> \n",
        "- `plt.show()`: <font color=\"00AAFF\"> _shows plot_</font>  "
      ]
    },
    {
      "cell_type": "code",
      "metadata": {
        "id": "bYoXuZrPIcK4",
        "colab_type": "code",
        "colab": {}
      },
      "source": [
        "# Count the amount of listings per borough\n",
        "\n",
        "\n",
        "# Set titles and labels of plot\n",
        "\n",
        "\n",
        "# Show plot\n"
      ],
      "execution_count": null,
      "outputs": []
    },
    {
      "cell_type": "markdown",
      "metadata": {
        "id": "SYAO_vpydLGS",
        "colab_type": "text"
      },
      "source": [
        "##### **Question 3:** What are the number of listings per year?"
      ]
    },
    {
      "cell_type": "code",
      "metadata": {
        "id": "VMw8SMQYMDmW",
        "colab_type": "code",
        "colab": {}
      },
      "source": [
        "# Extract listing year column from listing_added column\n"
      ],
      "execution_count": null,
      "outputs": []
    },
    {
      "cell_type": "code",
      "metadata": {
        "id": "CubbpSwbdkYp",
        "colab_type": "code",
        "colab": {}
      },
      "source": [
        "# Set figure size\n",
        "plt.figure(figsize = (8,6))\n",
        "\n",
        "# Count the number of listings per year\n",
        "\n",
        "# Set titles and labels of plot\n",
        "\n",
        "# Show plot\n"
      ],
      "execution_count": null,
      "outputs": []
    },
    {
      "cell_type": "markdown",
      "metadata": {
        "id": "2BQMyv8gdr2p",
        "colab_type": "text"
      },
      "source": [
        "##### **Question 4:** What are the number of listings per year in each borough?"
      ]
    },
    {
      "cell_type": "code",
      "metadata": {
        "id": "deHFhfRMNfTt",
        "colab_type": "code",
        "colab": {}
      },
      "source": [
        "# Set figure size\n",
        "plt.figure(figsize = (12,6))\n",
        "\n",
        "# Count the number of listings per year for each borough\n",
        "\n",
        "# Set titles and labels of plot\n",
        "\n",
        "# Show title\n"
      ],
      "execution_count": null,
      "outputs": []
    },
    {
      "cell_type": "markdown",
      "metadata": {
        "id": "NZt6jw2E_2d0",
        "colab_type": "text"
      },
      "source": [
        "\n",
        "\n",
        "---\n",
        "\n",
        "<center><h1> Q&A</h1> </center>\n",
        "\n",
        "---\n",
        "\n",
        "\n",
        "\n"
      ]
    }
  ]
}