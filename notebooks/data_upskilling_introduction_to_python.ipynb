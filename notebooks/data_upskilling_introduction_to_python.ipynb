{
  "nbformat": 4,
  "nbformat_minor": 0,
  "metadata": {
    "colab": {
      "name": "Data UpSkilling Learning Club: Introduction to Python.ipynb",
      "provenance": []
    },
    "kernelspec": {
      "name": "python3",
      "display_name": "Python 3"
    }
  },
  "cells": [
    {
      "cell_type": "markdown",
      "metadata": {
        "id": "6Ijg5wUCTQYG",
        "colab_type": "text"
      },
      "source": [
        "<p align=\"center\">\n",
        "<img src=\"https://github.com/adelnehme/data-upskilling-learning-club/blob/master/assets/datacamp_amazon.png?raw=true\" alt = \"DataCamp Amazon icon\" width=\"65%\">\n",
        "</p>\n",
        "\n",
        "\n",
        "## **Data UpSkilling Learning Club: Introduction to Python**\n",
        "\n",
        "\n",
        "### **Key session takeaways**\n",
        "\n",
        "* Import data into Python using `pandas` — Python’s most popular data analysis package.\n",
        "* Filter, add new columns, and analyse datasets using pandas.\n",
        "* Present data visualisations using `matplotlib` and `seaborn` — Python's most popular data visualization packages.\n",
        "\n",
        "### **The Dataset**\n",
        "\n",
        "The dataset to be used in this webinar is a CSV file named `airbnb.csv`, which contains data on airbnb listings in the state of New York. It contains the following columns:\n",
        "\n",
        "- `listing_id`: The unique identifier for a listing\n",
        "- `description`: The description used on the listing\n",
        "- `host_id`: Unique identifier for a host\n",
        "- `neighbourhood_full`: Name of boroughs and neighbourhoods\n",
        "- `coordinates`: Coordinates of listing _(latitude, longitude)_\n",
        "- `listing_added`: Date of added listing\n",
        "- `room_type`: Type of room \n",
        "- `rating`: Rating from 0 to 5.\n",
        "- `price`: Price per night for listing\n",
        "- `number_of_reviews`: Amount of reviews received \n",
        "- `reviews_per_month`: Number of reviews per month\n",
        "- `availability_365`: Number of days available per year\n",
        "- `number_of_stays`: Total number of stays thus far\n"
      ]
    },
    {
      "cell_type": "markdown",
      "metadata": {
        "id": "BMYfcKeDY85K",
        "colab_type": "text"
      },
      "source": [
        "## **Getting started**\n",
        "\n",
        "<font color=00AAFF>*Just like we click and open pre-installed software on any computer OS before running analysis — we import pre-installed packages into Python before using them*<font color=00AAFF>\n",
        "\n",
        "```\n",
        "import package_name as package_alias\n",
        "```"
      ]
    },
    {
      "cell_type": "code",
      "metadata": {
        "id": "EMQfyC7GUNhT",
        "colab_type": "code",
        "colab": {}
      },
      "source": [
        "# Import libraries\n",
        "import pandas as pd\n",
        "import matplotlib.pyplot as plt\n",
        "import seaborn as sns"
      ],
      "execution_count": 174,
      "outputs": []
    },
    {
      "cell_type": "markdown",
      "metadata": {
        "id": "AGaYTBLYQUEe",
        "colab_type": "text"
      },
      "source": [
        "<font color=00AAFF>*To import a CSV file into* `pandas` *, we use* <font color=00AAFF>\n",
        "\n",
        "```\n",
        "data = pd.read_csv(file_path)\n",
        "```\n",
        "\n",
        "<font color=00AAFF>*Check out this [documentation](https://pandas.pydata.org/pandas-docs/stable/user_guide/io.html) for importing other data types.*<font color=00AAFF>\n"
      ]
    },
    {
      "cell_type": "code",
      "metadata": {
        "id": "l8t_EwRNZPLB",
        "colab_type": "code",
        "colab": {}
      },
      "source": [
        "# Read in the dataset\n",
        "airbnb = pd.read_csv('https://raw.githubusercontent.com/adelnehme/data-upskilling-learning-club/master/data/airbnb.csv', index_col = 0)"
      ],
      "execution_count": 175,
      "outputs": []
    },
    {
      "cell_type": "markdown",
      "metadata": {
        "id": "rGBXPrA0SEJZ",
        "colab_type": "text"
      },
      "source": [
        "<font color=00AAFF>*Some important and common methods needed to get a better understanding of DataFrames and diagnose potential data problems are the following:*<font color=00AAFF>\n",
        "\n",
        "```\n",
        "# Show the first 5 rows of the data\n",
        "airbnb.head()\n",
        "\n",
        "# Show information on columns and data types\n",
        "airbnb.info()\n",
        "\n",
        "# Show distribution of numeric columns\n",
        "airbnb.describe()\n",
        "```"
      ]
    },
    {
      "cell_type": "code",
      "metadata": {
        "id": "QdUb07i370zA",
        "colab_type": "code",
        "colab": {
          "base_uri": "https://localhost:8080/",
          "height": 443
        },
        "outputId": "d83aff96-f068-43f9-a7f8-35d1f1ba5ace"
      },
      "source": [
        "# Inspect header of dataset\n",
        "airbnb.head()"
      ],
      "execution_count": 176,
      "outputs": [
        {
          "output_type": "execute_result",
          "data": {
            "text/html": [
              "<div>\n",
              "<style scoped>\n",
              "    .dataframe tbody tr th:only-of-type {\n",
              "        vertical-align: middle;\n",
              "    }\n",
              "\n",
              "    .dataframe tbody tr th {\n",
              "        vertical-align: top;\n",
              "    }\n",
              "\n",
              "    .dataframe thead th {\n",
              "        text-align: right;\n",
              "    }\n",
              "</style>\n",
              "<table border=\"1\" class=\"dataframe\">\n",
              "  <thead>\n",
              "    <tr style=\"text-align: right;\">\n",
              "      <th></th>\n",
              "      <th>listing_id</th>\n",
              "      <th>description</th>\n",
              "      <th>host_id</th>\n",
              "      <th>neighbourhood_full</th>\n",
              "      <th>coordinates</th>\n",
              "      <th>room_type</th>\n",
              "      <th>price</th>\n",
              "      <th>number_of_reviews</th>\n",
              "      <th>reviews_per_month</th>\n",
              "      <th>availability_365</th>\n",
              "      <th>rating</th>\n",
              "      <th>number_of_stays</th>\n",
              "      <th>listing_added</th>\n",
              "    </tr>\n",
              "  </thead>\n",
              "  <tbody>\n",
              "    <tr>\n",
              "      <th>0</th>\n",
              "      <td>13740704</td>\n",
              "      <td>Cozy,budget friendly, cable inc, private entra...</td>\n",
              "      <td>20583125.0</td>\n",
              "      <td>Brooklyn, Flatlands</td>\n",
              "      <td>(40.63222, -73.93398)</td>\n",
              "      <td>private room</td>\n",
              "      <td>45$</td>\n",
              "      <td>10</td>\n",
              "      <td>0.70</td>\n",
              "      <td>85</td>\n",
              "      <td>4.100954</td>\n",
              "      <td>12.0</td>\n",
              "      <td>2018-06-08</td>\n",
              "    </tr>\n",
              "    <tr>\n",
              "      <th>1</th>\n",
              "      <td>22005115</td>\n",
              "      <td>Two floor apartment near Central Park</td>\n",
              "      <td>82746113.0</td>\n",
              "      <td>Manhattan, Upper West Side</td>\n",
              "      <td>(40.78761, -73.96862)</td>\n",
              "      <td>entire home/apt</td>\n",
              "      <td>135$</td>\n",
              "      <td>1</td>\n",
              "      <td>1.00</td>\n",
              "      <td>145</td>\n",
              "      <td>3.367600</td>\n",
              "      <td>1.2</td>\n",
              "      <td>2018-12-25</td>\n",
              "    </tr>\n",
              "    <tr>\n",
              "      <th>2</th>\n",
              "      <td>6425850</td>\n",
              "      <td>Spacious, charming studio</td>\n",
              "      <td>32715865.0</td>\n",
              "      <td>Manhattan, Upper West Side</td>\n",
              "      <td>(40.79169, -73.97498)</td>\n",
              "      <td>entire home/apt</td>\n",
              "      <td>86$</td>\n",
              "      <td>5</td>\n",
              "      <td>0.13</td>\n",
              "      <td>0</td>\n",
              "      <td>4.763203</td>\n",
              "      <td>6.0</td>\n",
              "      <td>2017-03-20</td>\n",
              "    </tr>\n",
              "    <tr>\n",
              "      <th>3</th>\n",
              "      <td>22986519</td>\n",
              "      <td>Bedroom on the lively Lower East Side</td>\n",
              "      <td>154262349.0</td>\n",
              "      <td>Manhattan, Lower East Side</td>\n",
              "      <td>(40.71884, -73.98354)</td>\n",
              "      <td>private room</td>\n",
              "      <td>160$</td>\n",
              "      <td>23</td>\n",
              "      <td>2.29</td>\n",
              "      <td>102</td>\n",
              "      <td>3.822591</td>\n",
              "      <td>27.6</td>\n",
              "      <td>2020-10-23</td>\n",
              "    </tr>\n",
              "    <tr>\n",
              "      <th>4</th>\n",
              "      <td>271954</td>\n",
              "      <td>Beautiful brownstone apartment</td>\n",
              "      <td>1423798.0</td>\n",
              "      <td>Manhattan, Greenwich Village</td>\n",
              "      <td>(40.73388, -73.99452)</td>\n",
              "      <td>entire home/apt</td>\n",
              "      <td>150$</td>\n",
              "      <td>203</td>\n",
              "      <td>2.22</td>\n",
              "      <td>300</td>\n",
              "      <td>4.478396</td>\n",
              "      <td>243.6</td>\n",
              "      <td>2018-12-15</td>\n",
              "    </tr>\n",
              "  </tbody>\n",
              "</table>\n",
              "</div>"
            ],
            "text/plain": [
              "   listing_id  ... listing_added\n",
              "0    13740704  ...    2018-06-08\n",
              "1    22005115  ...    2018-12-25\n",
              "2     6425850  ...    2017-03-20\n",
              "3    22986519  ...    2020-10-23\n",
              "4      271954  ...    2018-12-15\n",
              "\n",
              "[5 rows x 13 columns]"
            ]
          },
          "metadata": {
            "tags": []
          },
          "execution_count": 176
        }
      ]
    },
    {
      "cell_type": "markdown",
      "metadata": {
        "id": "777CTtRq78ja",
        "colab_type": "text"
      },
      "source": [
        "* _**Problem 1:** Taking a look at the_ `price` _column, it seems it's not a numeric data type_\n",
        "* _**Problem 2:** We need to extract the Borough from the_ `neighbourhood_full` _column_"
      ]
    },
    {
      "cell_type": "code",
      "metadata": {
        "id": "OwgWHyKF8b7F",
        "colab_type": "code",
        "colab": {
          "base_uri": "https://localhost:8080/",
          "height": 288
        },
        "outputId": "528123c5-9b15-4527-c0d1-24a6d30eee38"
      },
      "source": [
        "# Check description of dataset\n",
        "airbnb.describe()"
      ],
      "execution_count": 177,
      "outputs": [
        {
          "output_type": "execute_result",
          "data": {
            "text/html": [
              "<div>\n",
              "<style scoped>\n",
              "    .dataframe tbody tr th:only-of-type {\n",
              "        vertical-align: middle;\n",
              "    }\n",
              "\n",
              "    .dataframe tbody tr th {\n",
              "        vertical-align: top;\n",
              "    }\n",
              "\n",
              "    .dataframe thead th {\n",
              "        text-align: right;\n",
              "    }\n",
              "</style>\n",
              "<table border=\"1\" class=\"dataframe\">\n",
              "  <thead>\n",
              "    <tr style=\"text-align: right;\">\n",
              "      <th></th>\n",
              "      <th>listing_id</th>\n",
              "      <th>host_id</th>\n",
              "      <th>number_of_reviews</th>\n",
              "      <th>reviews_per_month</th>\n",
              "      <th>availability_365</th>\n",
              "      <th>rating</th>\n",
              "      <th>number_of_stays</th>\n",
              "    </tr>\n",
              "  </thead>\n",
              "  <tbody>\n",
              "    <tr>\n",
              "      <th>count</th>\n",
              "      <td>7.734000e+03</td>\n",
              "      <td>7.727000e+03</td>\n",
              "      <td>7734.000000</td>\n",
              "      <td>7734.000000</td>\n",
              "      <td>7734.000000</td>\n",
              "      <td>7734.000000</td>\n",
              "      <td>7734.000000</td>\n",
              "    </tr>\n",
              "    <tr>\n",
              "      <th>mean</th>\n",
              "      <td>1.838769e+07</td>\n",
              "      <td>6.481466e+07</td>\n",
              "      <td>28.355185</td>\n",
              "      <td>1.353746</td>\n",
              "      <td>114.546160</td>\n",
              "      <td>4.012199</td>\n",
              "      <td>34.026222</td>\n",
              "    </tr>\n",
              "    <tr>\n",
              "      <th>std</th>\n",
              "      <td>1.069230e+07</td>\n",
              "      <td>7.610154e+07</td>\n",
              "      <td>46.962275</td>\n",
              "      <td>1.613229</td>\n",
              "      <td>129.862583</td>\n",
              "      <td>0.574812</td>\n",
              "      <td>56.354729</td>\n",
              "    </tr>\n",
              "    <tr>\n",
              "      <th>min</th>\n",
              "      <td>3.831000e+03</td>\n",
              "      <td>2.787000e+03</td>\n",
              "      <td>1.000000</td>\n",
              "      <td>0.010000</td>\n",
              "      <td>0.000000</td>\n",
              "      <td>3.000633</td>\n",
              "      <td>1.200000</td>\n",
              "    </tr>\n",
              "    <tr>\n",
              "      <th>25%</th>\n",
              "      <td>9.028764e+06</td>\n",
              "      <td>7.155462e+06</td>\n",
              "      <td>3.000000</td>\n",
              "      <td>0.200000</td>\n",
              "      <td>0.000000</td>\n",
              "      <td>3.518918</td>\n",
              "      <td>3.600000</td>\n",
              "    </tr>\n",
              "    <tr>\n",
              "      <th>50%</th>\n",
              "      <td>1.930978e+07</td>\n",
              "      <td>2.951896e+07</td>\n",
              "      <td>9.000000</td>\n",
              "      <td>0.710000</td>\n",
              "      <td>54.000000</td>\n",
              "      <td>4.024223</td>\n",
              "      <td>10.800000</td>\n",
              "    </tr>\n",
              "    <tr>\n",
              "      <th>75%</th>\n",
              "      <td>2.790623e+07</td>\n",
              "      <td>1.017516e+08</td>\n",
              "      <td>32.000000</td>\n",
              "      <td>2.000000</td>\n",
              "      <td>230.000000</td>\n",
              "      <td>4.514173</td>\n",
              "      <td>38.400000</td>\n",
              "    </tr>\n",
              "    <tr>\n",
              "      <th>max</th>\n",
              "      <td>3.635113e+07</td>\n",
              "      <td>2.733615e+08</td>\n",
              "      <td>510.000000</td>\n",
              "      <td>16.220000</td>\n",
              "      <td>365.000000</td>\n",
              "      <td>4.999561</td>\n",
              "      <td>612.000000</td>\n",
              "    </tr>\n",
              "  </tbody>\n",
              "</table>\n",
              "</div>"
            ],
            "text/plain": [
              "         listing_id       host_id  ...       rating  number_of_stays\n",
              "count  7.734000e+03  7.727000e+03  ...  7734.000000      7734.000000\n",
              "mean   1.838769e+07  6.481466e+07  ...     4.012199        34.026222\n",
              "std    1.069230e+07  7.610154e+07  ...     0.574812        56.354729\n",
              "min    3.831000e+03  2.787000e+03  ...     3.000633         1.200000\n",
              "25%    9.028764e+06  7.155462e+06  ...     3.518918         3.600000\n",
              "50%    1.930978e+07  2.951896e+07  ...     4.024223        10.800000\n",
              "75%    2.790623e+07  1.017516e+08  ...     4.514173        38.400000\n",
              "max    3.635113e+07  2.733615e+08  ...     4.999561       612.000000\n",
              "\n",
              "[8 rows x 7 columns]"
            ]
          },
          "metadata": {
            "tags": []
          },
          "execution_count": 177
        }
      ]
    },
    {
      "cell_type": "code",
      "metadata": {
        "id": "1asOzFL-7oOi",
        "colab_type": "code",
        "colab": {
          "base_uri": "https://localhost:8080/",
          "height": 363
        },
        "outputId": "f600b2ba-67a4-4f60-cc4e-e257f63c3979"
      },
      "source": [
        "# Check information of dataset\n",
        "airbnb.info()"
      ],
      "execution_count": 178,
      "outputs": [
        {
          "output_type": "stream",
          "text": [
            "<class 'pandas.core.frame.DataFrame'>\n",
            "Int64Index: 7734 entries, 0 to 7733\n",
            "Data columns (total 13 columns):\n",
            " #   Column              Non-Null Count  Dtype  \n",
            "---  ------              --------------  -----  \n",
            " 0   listing_id          7734 non-null   int64  \n",
            " 1   description         7733 non-null   object \n",
            " 2   host_id             7727 non-null   float64\n",
            " 3   neighbourhood_full  7734 non-null   object \n",
            " 4   coordinates         7734 non-null   object \n",
            " 5   room_type           7734 non-null   object \n",
            " 6   price               7734 non-null   object \n",
            " 7   number_of_reviews   7734 non-null   int64  \n",
            " 8   reviews_per_month   7734 non-null   float64\n",
            " 9   availability_365    7734 non-null   int64  \n",
            " 10  rating              7734 non-null   float64\n",
            " 11  number_of_stays     7734 non-null   float64\n",
            " 12  listing_added       7734 non-null   object \n",
            "dtypes: float64(4), int64(3), object(6)\n",
            "memory usage: 845.9+ KB\n"
          ],
          "name": "stdout"
        }
      ]
    },
    {
      "cell_type": "markdown",
      "metadata": {
        "id": "Fu8BM83N8jZ_",
        "colab_type": "text"
      },
      "source": [
        "* _**Problem 3:** From the output, it seems that we have missing data in_ `host_id`, `description` columns.\n",
        "* _**Problem 4:** We need to convert_ `listing_added` _column to date column._"
      ]
    },
    {
      "cell_type": "markdown",
      "metadata": {
        "id": "fC7RVpt-UcRD",
        "colab_type": "text"
      },
      "source": [
        "## **Data Cleaning**"
      ]
    },
    {
      "cell_type": "markdown",
      "metadata": {
        "id": "rG5PDhllUXL7",
        "colab_type": "text"
      },
      "source": [
        "### **Data cleaning to-do list!**\n",
        "\n",
        "_Data Type Problems_\n",
        "\n",
        "- _**Task 1**: Remove_ `$` _from_ `price` _and convert it to_ `float`\n",
        "- _**Task 2**: Convert_ `listing_added` _to_ `datetime`\n",
        "\n",
        "<br>\n",
        "\n",
        "_Text/categorical data problems:_\n",
        "\n",
        "- _**Task 3**: Extract borough from_ `neighbourhood_full`\n",
        "\n",
        "<br>\n",
        "\n",
        "_Dealing with missing data:_\n",
        "\n",
        "- _**Task 4**: Deal with missing data in_ `host_id` _and_ `description` _columns_\n",
        "\n",
        "<br>\n"
      ]
    },
    {
      "cell_type": "markdown",
      "metadata": {
        "id": "_WbgrwVHVLoU",
        "colab_type": "text"
      },
      "source": [
        "##### **Task 1:** Remove `$` from `price` and convert it to `float`\n"
      ]
    },
    {
      "cell_type": "markdown",
      "metadata": {
        "id": "7ugtMIioXim8",
        "colab_type": "text"
      },
      "source": [
        "<font color=\"00AAFF\"> _To remove a character from a string column, we can use:_ </font>\n",
        "\n",
        "```\n",
        "data['column_name'] = data['column_name'].str.strip(character)\n",
        "```\n",
        "\n",
        "<font color=\"00AAFF\"> _To convert a numeric column to a float, we can use:_ </font>\n",
        "\n",
        "```\n",
        "data['column_name'] = data['column_name'].astype('float')\n",
        "```"
      ]
    },
    {
      "cell_type": "code",
      "metadata": {
        "id": "yMm6udxH9O4C",
        "colab_type": "code",
        "colab": {
          "base_uri": "https://localhost:8080/",
          "height": 443
        },
        "outputId": "1af5f143-0c4a-4daa-fb4b-21b7d18b12eb"
      },
      "source": [
        "# Strip $ from price column\n",
        "airbnb['price'] = airbnb['price'].str.strip('$')\n",
        "\n",
        "# Convert price column to float\n",
        "airbnb['price'] = airbnb['price'].astype('float')\n",
        "\n",
        "# Print header again\n",
        "airbnb.head()"
      ],
      "execution_count": 179,
      "outputs": [
        {
          "output_type": "execute_result",
          "data": {
            "text/html": [
              "<div>\n",
              "<style scoped>\n",
              "    .dataframe tbody tr th:only-of-type {\n",
              "        vertical-align: middle;\n",
              "    }\n",
              "\n",
              "    .dataframe tbody tr th {\n",
              "        vertical-align: top;\n",
              "    }\n",
              "\n",
              "    .dataframe thead th {\n",
              "        text-align: right;\n",
              "    }\n",
              "</style>\n",
              "<table border=\"1\" class=\"dataframe\">\n",
              "  <thead>\n",
              "    <tr style=\"text-align: right;\">\n",
              "      <th></th>\n",
              "      <th>listing_id</th>\n",
              "      <th>description</th>\n",
              "      <th>host_id</th>\n",
              "      <th>neighbourhood_full</th>\n",
              "      <th>coordinates</th>\n",
              "      <th>room_type</th>\n",
              "      <th>price</th>\n",
              "      <th>number_of_reviews</th>\n",
              "      <th>reviews_per_month</th>\n",
              "      <th>availability_365</th>\n",
              "      <th>rating</th>\n",
              "      <th>number_of_stays</th>\n",
              "      <th>listing_added</th>\n",
              "    </tr>\n",
              "  </thead>\n",
              "  <tbody>\n",
              "    <tr>\n",
              "      <th>0</th>\n",
              "      <td>13740704</td>\n",
              "      <td>Cozy,budget friendly, cable inc, private entra...</td>\n",
              "      <td>20583125.0</td>\n",
              "      <td>Brooklyn, Flatlands</td>\n",
              "      <td>(40.63222, -73.93398)</td>\n",
              "      <td>private room</td>\n",
              "      <td>45.0</td>\n",
              "      <td>10</td>\n",
              "      <td>0.70</td>\n",
              "      <td>85</td>\n",
              "      <td>4.100954</td>\n",
              "      <td>12.0</td>\n",
              "      <td>2018-06-08</td>\n",
              "    </tr>\n",
              "    <tr>\n",
              "      <th>1</th>\n",
              "      <td>22005115</td>\n",
              "      <td>Two floor apartment near Central Park</td>\n",
              "      <td>82746113.0</td>\n",
              "      <td>Manhattan, Upper West Side</td>\n",
              "      <td>(40.78761, -73.96862)</td>\n",
              "      <td>entire home/apt</td>\n",
              "      <td>135.0</td>\n",
              "      <td>1</td>\n",
              "      <td>1.00</td>\n",
              "      <td>145</td>\n",
              "      <td>3.367600</td>\n",
              "      <td>1.2</td>\n",
              "      <td>2018-12-25</td>\n",
              "    </tr>\n",
              "    <tr>\n",
              "      <th>2</th>\n",
              "      <td>6425850</td>\n",
              "      <td>Spacious, charming studio</td>\n",
              "      <td>32715865.0</td>\n",
              "      <td>Manhattan, Upper West Side</td>\n",
              "      <td>(40.79169, -73.97498)</td>\n",
              "      <td>entire home/apt</td>\n",
              "      <td>86.0</td>\n",
              "      <td>5</td>\n",
              "      <td>0.13</td>\n",
              "      <td>0</td>\n",
              "      <td>4.763203</td>\n",
              "      <td>6.0</td>\n",
              "      <td>2017-03-20</td>\n",
              "    </tr>\n",
              "    <tr>\n",
              "      <th>3</th>\n",
              "      <td>22986519</td>\n",
              "      <td>Bedroom on the lively Lower East Side</td>\n",
              "      <td>154262349.0</td>\n",
              "      <td>Manhattan, Lower East Side</td>\n",
              "      <td>(40.71884, -73.98354)</td>\n",
              "      <td>private room</td>\n",
              "      <td>160.0</td>\n",
              "      <td>23</td>\n",
              "      <td>2.29</td>\n",
              "      <td>102</td>\n",
              "      <td>3.822591</td>\n",
              "      <td>27.6</td>\n",
              "      <td>2020-10-23</td>\n",
              "    </tr>\n",
              "    <tr>\n",
              "      <th>4</th>\n",
              "      <td>271954</td>\n",
              "      <td>Beautiful brownstone apartment</td>\n",
              "      <td>1423798.0</td>\n",
              "      <td>Manhattan, Greenwich Village</td>\n",
              "      <td>(40.73388, -73.99452)</td>\n",
              "      <td>entire home/apt</td>\n",
              "      <td>150.0</td>\n",
              "      <td>203</td>\n",
              "      <td>2.22</td>\n",
              "      <td>300</td>\n",
              "      <td>4.478396</td>\n",
              "      <td>243.6</td>\n",
              "      <td>2018-12-15</td>\n",
              "    </tr>\n",
              "  </tbody>\n",
              "</table>\n",
              "</div>"
            ],
            "text/plain": [
              "   listing_id  ... listing_added\n",
              "0    13740704  ...    2018-06-08\n",
              "1    22005115  ...    2018-12-25\n",
              "2     6425850  ...    2017-03-20\n",
              "3    22986519  ...    2020-10-23\n",
              "4      271954  ...    2018-12-15\n",
              "\n",
              "[5 rows x 13 columns]"
            ]
          },
          "metadata": {
            "tags": []
          },
          "execution_count": 179
        }
      ]
    },
    {
      "cell_type": "markdown",
      "metadata": {
        "id": "_yDCiMLSYsBH",
        "colab_type": "text"
      },
      "source": [
        "##### **Task 2:** Convert `listing_added` to `datetime`\n",
        "\n",
        "<font color=\"00AAFF\"> _To convert a date column to_ </font> `datetime`<font color=\"00AAFF\">_, we can use:_\n",
        "\n",
        "\n",
        "```\n",
        "data['column_name'] = pd.to_datetime(data['column_name'])\n",
        "```"
      ]
    },
    {
      "cell_type": "code",
      "metadata": {
        "id": "g_sXwhjNYreC",
        "colab_type": "code",
        "colab": {
          "base_uri": "https://localhost:8080/",
          "height": 363
        },
        "outputId": "2e7e71d8-c8c1-4da6-84f0-51dc4f9fb786"
      },
      "source": [
        "# Convert listing_added to datetime\n",
        "airbnb['listing_added'] = pd.to_datetime(airbnb['listing_added'])\n",
        "\n",
        "# Print info again\n",
        "airbnb.info()"
      ],
      "execution_count": null,
      "outputs": [
        {
          "output_type": "stream",
          "text": [
            "<class 'pandas.core.frame.DataFrame'>\n",
            "Int64Index: 7734 entries, 0 to 7733\n",
            "Data columns (total 13 columns):\n",
            " #   Column              Non-Null Count  Dtype         \n",
            "---  ------              --------------  -----         \n",
            " 0   listing_id          7734 non-null   int64         \n",
            " 1   description         7733 non-null   object        \n",
            " 2   host_id             7727 non-null   float64       \n",
            " 3   neighbourhood_full  7734 non-null   object        \n",
            " 4   coordinates         7734 non-null   object        \n",
            " 5   room_type           7734 non-null   object        \n",
            " 6   price               7734 non-null   float64       \n",
            " 7   number_of_reviews   7734 non-null   int64         \n",
            " 8   reviews_per_month   7734 non-null   float64       \n",
            " 9   availability_365    7734 non-null   int64         \n",
            " 10  rating              7734 non-null   float64       \n",
            " 11  number_of_stays     7734 non-null   float64       \n",
            " 12  listing_added       7734 non-null   datetime64[ns]\n",
            "dtypes: datetime64[ns](1), float64(5), int64(3), object(4)\n",
            "memory usage: 845.9+ KB\n"
          ],
          "name": "stdout"
        }
      ]
    },
    {
      "cell_type": "markdown",
      "metadata": {
        "id": "9GkHzvjoZkKn",
        "colab_type": "text"
      },
      "source": [
        "##### **Task 3:** Extract borough from `neighbourhood_full` column\n",
        "\n",
        "<font color=\"00AAFF\"> _To split a column into multiple columns, we can use:_</font>\n",
        "\n",
        "```\n",
        "split_data = data['column_name'].str.split(',', expand = True)\n",
        "```\n"
      ]
    },
    {
      "cell_type": "code",
      "metadata": {
        "id": "HLChdRXM9rKe",
        "colab_type": "code",
        "colab": {}
      },
      "source": [
        "# Create new DataFrame with split column\n",
        "borough_neighbourhood = airbnb['neighbourhood_full'].str.split(',', expand = True)\n",
        "\n",
        "borough_neighbourhood"
      ],
      "execution_count": null,
      "outputs": []
    },
    {
      "cell_type": "code",
      "metadata": {
        "id": "NO79JROB-CF-",
        "colab_type": "code",
        "colab": {
          "base_uri": "https://localhost:8080/",
          "height": 198
        },
        "outputId": "b1bd6d08-a0f6-4665-f211-092ee79a6dc9"
      },
      "source": [
        "# Create borough and neighbourhood columns\n",
        "airbnb['borough'] = borough_neighbourhood[0]\n",
        "airbnb['neighbourhood'] = borough_neighbourhood[1]\n",
        "\n",
        "# Print header of columns\n",
        "airbnb[['neighbourhood_full', 'borough', 'neighbourhood']].head()"
      ],
      "execution_count": null,
      "outputs": [
        {
          "output_type": "execute_result",
          "data": {
            "text/html": [
              "<div>\n",
              "<style scoped>\n",
              "    .dataframe tbody tr th:only-of-type {\n",
              "        vertical-align: middle;\n",
              "    }\n",
              "\n",
              "    .dataframe tbody tr th {\n",
              "        vertical-align: top;\n",
              "    }\n",
              "\n",
              "    .dataframe thead th {\n",
              "        text-align: right;\n",
              "    }\n",
              "</style>\n",
              "<table border=\"1\" class=\"dataframe\">\n",
              "  <thead>\n",
              "    <tr style=\"text-align: right;\">\n",
              "      <th></th>\n",
              "      <th>neighbourhood_full</th>\n",
              "      <th>borough</th>\n",
              "      <th>neighbourhood</th>\n",
              "    </tr>\n",
              "  </thead>\n",
              "  <tbody>\n",
              "    <tr>\n",
              "      <th>0</th>\n",
              "      <td>Brooklyn, Flatlands</td>\n",
              "      <td>Brooklyn</td>\n",
              "      <td>Flatlands</td>\n",
              "    </tr>\n",
              "    <tr>\n",
              "      <th>1</th>\n",
              "      <td>Manhattan, Upper West Side</td>\n",
              "      <td>Manhattan</td>\n",
              "      <td>Upper West Side</td>\n",
              "    </tr>\n",
              "    <tr>\n",
              "      <th>2</th>\n",
              "      <td>Manhattan, Upper West Side</td>\n",
              "      <td>Manhattan</td>\n",
              "      <td>Upper West Side</td>\n",
              "    </tr>\n",
              "    <tr>\n",
              "      <th>3</th>\n",
              "      <td>Manhattan, Lower East Side</td>\n",
              "      <td>Manhattan</td>\n",
              "      <td>Lower East Side</td>\n",
              "    </tr>\n",
              "    <tr>\n",
              "      <th>4</th>\n",
              "      <td>Manhattan, Greenwich Village</td>\n",
              "      <td>Manhattan</td>\n",
              "      <td>Greenwich Village</td>\n",
              "    </tr>\n",
              "  </tbody>\n",
              "</table>\n",
              "</div>"
            ],
            "text/plain": [
              "             neighbourhood_full    borough       neighbourhood\n",
              "0           Brooklyn, Flatlands   Brooklyn           Flatlands\n",
              "1    Manhattan, Upper West Side  Manhattan     Upper West Side\n",
              "2    Manhattan, Upper West Side  Manhattan     Upper West Side\n",
              "3    Manhattan, Lower East Side  Manhattan     Lower East Side\n",
              "4  Manhattan, Greenwich Village  Manhattan   Greenwich Village"
            ]
          },
          "metadata": {
            "tags": []
          },
          "execution_count": 152
        }
      ]
    },
    {
      "cell_type": "code",
      "metadata": {
        "id": "7AmAW7HL-QeT",
        "colab_type": "code",
        "colab": {}
      },
      "source": [
        "# Drop original neighbourhood_full column\n",
        "airbnb.drop('neighbourhood_full', axis = 1 , inplace = True)"
      ],
      "execution_count": null,
      "outputs": []
    },
    {
      "cell_type": "markdown",
      "metadata": {
        "id": "I83nD4hkalO6",
        "colab_type": "text"
      },
      "source": [
        "##### **Task 4:** Deal with missing values in `host_id` and `description` columns\n",
        "\n",
        "\n",
        "<font color=\"00AAFF\"> _To count and drop missing values in a DataFrame, you can use the following:_</font>\n",
        "\n",
        "```\n",
        "# Count missing values per column\n",
        "data.isna().sum()\n",
        "\n",
        "# Count missing values of one column\n",
        "data['column_name'].isna().sum()\n",
        "\n",
        "# Drop missing values\n",
        "# data.dropna()\n",
        "```"
      ]
    },
    {
      "cell_type": "code",
      "metadata": {
        "id": "ivcJHiXV-fSx",
        "colab_type": "code",
        "colab": {
          "base_uri": "https://localhost:8080/",
          "height": 294
        },
        "outputId": "822912bf-1710-4412-ab02-9cb4256a4181"
      },
      "source": [
        "# Find missing values\n",
        "airbnb.isna().sum()"
      ],
      "execution_count": null,
      "outputs": [
        {
          "output_type": "execute_result",
          "data": {
            "text/plain": [
              "listing_id            0\n",
              "description           1\n",
              "host_id               7\n",
              "neighbourhood_full    0\n",
              "coordinates           0\n",
              "room_type             0\n",
              "price                 0\n",
              "number_of_reviews     0\n",
              "reviews_per_month     0\n",
              "availability_365      0\n",
              "rating                0\n",
              "number_of_stays       0\n",
              "listing_added         0\n",
              "borough               0\n",
              "neighbourhood         0\n",
              "dtype: int64"
            ]
          },
          "metadata": {
            "tags": []
          },
          "execution_count": 153
        }
      ]
    },
    {
      "cell_type": "code",
      "metadata": {
        "id": "-MhQ9CKk_gbE",
        "colab_type": "code",
        "colab": {
          "base_uri": "https://localhost:8080/",
          "height": 311
        },
        "outputId": "fa2699de-dc79-4803-c0fe-4a9b88f9a336"
      },
      "source": [
        "# Drop missing values\n",
        "airbnb = airbnb.dropna()\n",
        "# Count missing values again\n",
        "airbnb.isna().sum()"
      ],
      "execution_count": null,
      "outputs": [
        {
          "output_type": "execute_result",
          "data": {
            "text/plain": [
              "listing_id            0\n",
              "description           0\n",
              "host_id               0\n",
              "neighbourhood_full    0\n",
              "coordinates           0\n",
              "room_type             0\n",
              "price                 0\n",
              "number_of_reviews     0\n",
              "reviews_per_month     0\n",
              "availability_365      0\n",
              "rating                0\n",
              "number_of_stays       0\n",
              "listing_added         0\n",
              "borough               0\n",
              "neighbourhood         0\n",
              "listing_year          0\n",
              "dtype: int64"
            ]
          },
          "metadata": {
            "tags": []
          },
          "execution_count": 164
        }
      ]
    },
    {
      "cell_type": "markdown",
      "metadata": {
        "id": "Af25ZWEsccse",
        "colab_type": "text"
      },
      "source": [
        "## **Data Analysis and Visualization**"
      ]
    },
    {
      "cell_type": "markdown",
      "metadata": {
        "id": "ucpwJpmacfem",
        "colab_type": "text"
      },
      "source": [
        "##### **Question 1:** What is the distribution of price per room type?"
      ]
    },
    {
      "cell_type": "code",
      "metadata": {
        "id": "aJkzeme6F-_Z",
        "colab_type": "code",
        "colab": {
          "base_uri": "https://localhost:8080/",
          "height": 404
        },
        "outputId": "c7435309-316a-4873-95cf-5f1a920b7f78"
      },
      "source": [
        "# Visualize price by room type\n",
        "plt.figure(figsize = (8,6))\n",
        "\n",
        "# Create plot\n",
        "sns.boxplot(x = 'room_type', y = 'price', data = airbnb)\n",
        "\n",
        "# Set title of plot\n",
        "plt.title('Price distribution by room type below 600 dollars/night')\n",
        "# Set y-axis limit\n",
        "plt.ylim(0,400)\n",
        "# Show plot\n",
        "plt.show()"
      ],
      "execution_count": null,
      "outputs": [
        {
          "output_type": "display_data",
          "data": {
            "image/png": "[encoded data removed]",
            "text/plain": [
              "<Figure size 576x432 with 1 Axes>"
            ]
          },
          "metadata": {
            "tags": [],
            "needs_background": "light"
          }
        }
      ]
    },
    {
      "cell_type": "markdown",
      "metadata": {
        "id": "UygF0fk_c6ju",
        "colab_type": "text"
      },
      "source": [
        "##### **Question 2:** What are the number of listings per borough?"
      ]
    },
    {
      "cell_type": "code",
      "metadata": {
        "id": "bYoXuZrPIcK4",
        "colab_type": "code",
        "colab": {
          "base_uri": "https://localhost:8080/",
          "height": 295
        },
        "outputId": "6fe3fa34-aef5-4758-b336-e2dfa8e8cfef"
      },
      "source": [
        "# Count the amount of listings per borough\n",
        "sns.countplot(x = 'borough', data = airbnb)\n",
        "\n",
        "# Set title of plot\n",
        "plt.title('Number of properties per Borough')\n",
        "# Show plot\n",
        "plt.show()"
      ],
      "execution_count": null,
      "outputs": [
        {
          "output_type": "display_data",
          "data": {
            "image/png": "[encoded data removed]",
            "text/plain": [
              "<Figure size 432x288 with 1 Axes>"
            ]
          },
          "metadata": {
            "tags": [],
            "needs_background": "light"
          }
        }
      ]
    },
    {
      "cell_type": "markdown",
      "metadata": {
        "id": "SYAO_vpydLGS",
        "colab_type": "text"
      },
      "source": [
        "##### **Question 3:** What are the number of listings per year?"
      ]
    },
    {
      "cell_type": "code",
      "metadata": {
        "id": "VMw8SMQYMDmW",
        "colab_type": "code",
        "colab": {}
      },
      "source": [
        "# Extract listing year column from listing_added column\n",
        "airbnb['listing_year'] = airbnb['listing_added'].dt.year"
      ],
      "execution_count": null,
      "outputs": []
    },
    {
      "cell_type": "code",
      "metadata": {
        "id": "CubbpSwbdkYp",
        "colab_type": "code",
        "colab": {
          "base_uri": "https://localhost:8080/",
          "height": 405
        },
        "outputId": "0c837365-da37-439b-946c-299dc618578d"
      },
      "source": [
        "# Set figure size\n",
        "plt.figure(figsize = (8,6))\n",
        "\n",
        "# Count the number of listings per year\n",
        "sns.countplot(x = 'listing_year', data = airbnb)\n",
        "\n",
        "# Set plot title\n",
        "plt.title('Number of properties over the year')\n",
        "# Show plot\n",
        "plt.show()"
      ],
      "execution_count": null,
      "outputs": [
        {
          "output_type": "display_data",
          "data": {
            "image/png": "[encoded data removed]",
            "text/plain": [
              "<Figure size 576x432 with 1 Axes>"
            ]
          },
          "metadata": {
            "tags": [],
            "needs_background": "light"
          }
        }
      ]
    },
    {
      "cell_type": "markdown",
      "metadata": {
        "id": "2BQMyv8gdr2p",
        "colab_type": "text"
      },
      "source": [
        "##### **Question 4:** What are the number of listings per year in each borough?"
      ]
    },
    {
      "cell_type": "code",
      "metadata": {
        "id": "deHFhfRMNfTt",
        "colab_type": "code",
        "colab": {
          "base_uri": "https://localhost:8080/",
          "height": 405
        },
        "outputId": "c34d5bb5-b79e-4f4b-e7df-e6e9089a2ba1"
      },
      "source": [
        "# Set figure size\n",
        "plt.figure(figsize = (12,6))\n",
        "\n",
        "# Count the number of listings per year for each borough\n",
        "sns.countplot(x = 'listing_year', data = airbnb, hue = 'borough')\n",
        "\n",
        "# Set plot title\n",
        "plt.title('Number of properties over the year by borough')\n",
        "\n",
        "# Show title\n",
        "plt.show()"
      ],
      "execution_count": null,
      "outputs": [
        {
          "output_type": "display_data",
          "data": {
            "image/png": "[encoded data removed]",
            "text/plain": [
              "<Figure size 864x432 with 1 Axes>"
            ]
          },
          "metadata": {
            "tags": [],
            "needs_background": "light"
          }
        }
      ]
    }
  ]
}